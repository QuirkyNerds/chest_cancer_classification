{
 "cells": [
  {
   "cell_type": "code",
   "execution_count": 1,
   "metadata": {},
   "outputs": [],
   "source": [
    "import os"
   ]
  },
  {
   "cell_type": "code",
   "execution_count": 2,
   "metadata": {},
   "outputs": [
    {
     "data": {
      "text/plain": [
       "'c:\\\\Users\\\\Adithya\\\\Desktop\\\\chest_cancer_classification\\\\research'"
      ]
     },
     "execution_count": 2,
     "metadata": {},
     "output_type": "execute_result"
    }
   ],
   "source": [
    "%pwd"
   ]
  },
  {
   "cell_type": "code",
   "execution_count": 3,
   "metadata": {},
   "outputs": [],
   "source": [
    "os.chdir(\"../\")"
   ]
  },
  {
   "cell_type": "code",
   "execution_count": 4,
   "metadata": {},
   "outputs": [
    {
     "data": {
      "text/plain": [
       "'c:\\\\Users\\\\Adithya\\\\Desktop\\\\chest_cancer_classification'"
      ]
     },
     "execution_count": 4,
     "metadata": {},
     "output_type": "execute_result"
    }
   ],
   "source": [
    "%pwd"
   ]
  },
  {
   "cell_type": "code",
   "execution_count": 5,
   "metadata": {},
   "outputs": [],
   "source": [
    "from dataclasses import dataclass\n",
    "from pathlib import Path\n",
    "\n",
    "\n",
    "@dataclass(frozen=True)\n",
    "class DataIngestionConfig:\n",
    "    root_dir: Path\n",
    "    source_URL: str\n",
    "    local_data_file: Path\n",
    "    unzip_dir: Path"
   ]
  },
  {
   "cell_type": "code",
   "execution_count": 6,
   "metadata": {},
   "outputs": [],
   "source": [
    "from cnnClassifier.constants import *\n",
    "from cnnClassifier.utils.common import read_yaml, create_directories"
   ]
  },
  {
   "cell_type": "code",
   "execution_count": 7,
   "metadata": {},
   "outputs": [],
   "source": [
    "class ConfigurationManager:\n",
    "    def __init__(\n",
    "        self,\n",
    "        config_filepath = CONFIG_FILE_PATH,\n",
    "        params_filepath = PARAMS_FILE_PATH):\n",
    "\n",
    "        self.config = read_yaml(config_filepath)\n",
    "        self.params = read_yaml(params_filepath)\n",
    "\n",
    "        create_directories([self.config.artifacts_root])\n",
    "\n",
    "\n",
    "    \n",
    "    def get_data_ingestion_config(self) -> DataIngestionConfig:\n",
    "        config = self.config.data_ingestion\n",
    "\n",
    "        create_directories([config.root_dir])\n",
    "\n",
    "        data_ingestion_config = DataIngestionConfig(\n",
    "            root_dir=config.root_dir,\n",
    "            source_URL=config.source_URL,\n",
    "            local_data_file=config.local_data_file,\n",
    "            unzip_dir=config.unzip_dir \n",
    "        )\n",
    "\n",
    "        return data_ingestion_config\n",
    "      "
   ]
  },
  {
   "cell_type": "code",
   "execution_count": 8,
   "metadata": {},
   "outputs": [],
   "source": [
    "import os\n",
    "import zipfile\n",
    "import gdown\n",
    "from cnnClassifier import logger\n",
    "from cnnClassifier.utils.common import get_size"
   ]
  },
  {
   "cell_type": "code",
   "execution_count": 9,
   "metadata": {},
   "outputs": [
    {
     "name": "stdout",
     "output_type": "stream",
     "text": [
      "[2024-10-11 12:16:48,144:INFO:1507917566:>>>>>> stage Data Ingestion stage started <<<<<<]\n",
      "[2024-10-11 12:16:48,144:INFO:1507917566:Downloading data from https://drive.google.com/file/d/11T_7lm2Fuhn94UR3PnKn6OtOjXsRO8qT/view?usp=sharing into file artifacts\\data_ingestion\\data.zip]\n"
     ]
    },
    {
     "name": "stderr",
     "output_type": "stream",
     "text": [
      "Downloading...\n",
      "From (original): https://drive.google.com/uc?export=download&id=11T_7lm2Fuhn94UR3PnKn6OtOjXsRO8qT\n",
      "From (redirected): https://drive.google.com/uc?export=download&id=11T_7lm2Fuhn94UR3PnKn6OtOjXsRO8qT&confirm=t&uuid=554eec41-8070-4826-9eef-387a25e9ab40\n",
      "To: c:\\Users\\Adithya\\Desktop\\chest_cancer_classification\\artifacts\\data_ingestion\\data.zip\n",
      "100%|██████████| 49.0M/49.0M [00:01<00:00, 25.6MB/s]"
     ]
    },
    {
     "name": "stdout",
     "output_type": "stream",
     "text": [
      "[2024-10-11 12:16:55,239:ERROR:1507917566:Error in downloading file: 'utf-8' codec can't decode byte 0xfd in position 12: invalid start byte]\n",
      "[2024-10-11 12:16:55,247:ERROR:1507917566:Error in Data Ingestion stage: 'utf-8' codec can't decode byte 0xfd in position 12: invalid start byte]\n"
     ]
    },
    {
     "name": "stderr",
     "output_type": "stream",
     "text": [
      "\n"
     ]
    },
    {
     "ename": "UnicodeDecodeError",
     "evalue": "'utf-8' codec can't decode byte 0xfd in position 12: invalid start byte",
     "output_type": "error",
     "traceback": [
      "\u001b[1;31m---------------------------------------------------------------------------\u001b[0m",
      "\u001b[1;31mUnicodeDecodeError\u001b[0m                        Traceback (most recent call last)",
      "Cell \u001b[1;32mIn[9], line 104\u001b[0m\n\u001b[0;32m    102\u001b[0m \u001b[38;5;28;01mexcept\u001b[39;00m \u001b[38;5;167;01mException\u001b[39;00m \u001b[38;5;28;01mas\u001b[39;00m e:\n\u001b[0;32m    103\u001b[0m     logger\u001b[38;5;241m.\u001b[39merror(\u001b[38;5;124mf\u001b[39m\u001b[38;5;124m\"\u001b[39m\u001b[38;5;124mError in Data Ingestion stage: \u001b[39m\u001b[38;5;132;01m{\u001b[39;00me\u001b[38;5;132;01m}\u001b[39;00m\u001b[38;5;124m\"\u001b[39m)\n\u001b[1;32m--> 104\u001b[0m     \u001b[38;5;28;01mraise\u001b[39;00m e\n",
      "Cell \u001b[1;32mIn[9], line 95\u001b[0m\n\u001b[0;32m     92\u001b[0m logger\u001b[38;5;241m.\u001b[39minfo(\u001b[38;5;124m\"\u001b[39m\u001b[38;5;124m>>>>>> stage Data Ingestion stage started <<<<<<\u001b[39m\u001b[38;5;124m\"\u001b[39m)\n\u001b[0;32m     94\u001b[0m \u001b[38;5;66;03m# Download the data\u001b[39;00m\n\u001b[1;32m---> 95\u001b[0m \u001b[43mdata_ingestion\u001b[49m\u001b[38;5;241;43m.\u001b[39;49m\u001b[43mdownload_file\u001b[49m\u001b[43m(\u001b[49m\u001b[43m)\u001b[49m\n\u001b[0;32m     97\u001b[0m \u001b[38;5;66;03m# Extract the downloaded ZIP file\u001b[39;00m\n\u001b[0;32m     98\u001b[0m data_ingestion\u001b[38;5;241m.\u001b[39mextract_zip_file()\n",
      "Cell \u001b[1;32mIn[9], line 58\u001b[0m, in \u001b[0;36mDataIngestion.download_file\u001b[1;34m(self)\u001b[0m\n\u001b[0;32m     56\u001b[0m \u001b[38;5;28;01mexcept\u001b[39;00m \u001b[38;5;167;01mException\u001b[39;00m \u001b[38;5;28;01mas\u001b[39;00m e:\n\u001b[0;32m     57\u001b[0m     logger\u001b[38;5;241m.\u001b[39merror(\u001b[38;5;124mf\u001b[39m\u001b[38;5;124m\"\u001b[39m\u001b[38;5;124mError in downloading file: \u001b[39m\u001b[38;5;132;01m{\u001b[39;00me\u001b[38;5;132;01m}\u001b[39;00m\u001b[38;5;124m\"\u001b[39m)\n\u001b[1;32m---> 58\u001b[0m     \u001b[38;5;28;01mraise\u001b[39;00m e\n",
      "Cell \u001b[1;32mIn[9], line 45\u001b[0m, in \u001b[0;36mDataIngestion.download_file\u001b[1;34m(self)\u001b[0m\n\u001b[0;32m     43\u001b[0m \u001b[38;5;66;03m# Check if the file is an HTML file (indicative of a confirmation page)\u001b[39;00m\n\u001b[0;32m     44\u001b[0m \u001b[38;5;28;01mwith\u001b[39;00m \u001b[38;5;28mopen\u001b[39m(zip_download_dir, \u001b[38;5;124m'\u001b[39m\u001b[38;5;124mr\u001b[39m\u001b[38;5;124m'\u001b[39m, encoding\u001b[38;5;241m=\u001b[39m\u001b[38;5;124m'\u001b[39m\u001b[38;5;124mutf-8\u001b[39m\u001b[38;5;124m'\u001b[39m) \u001b[38;5;28;01mas\u001b[39;00m file:\n\u001b[1;32m---> 45\u001b[0m     first_line \u001b[38;5;241m=\u001b[39m \u001b[43mfile\u001b[49m\u001b[38;5;241;43m.\u001b[39;49m\u001b[43mreadline\u001b[49m\u001b[43m(\u001b[49m\u001b[43m)\u001b[49m\n\u001b[0;32m     46\u001b[0m     \u001b[38;5;28;01mif\u001b[39;00m \u001b[38;5;124m\"\u001b[39m\u001b[38;5;124m<html>\u001b[39m\u001b[38;5;124m\"\u001b[39m \u001b[38;5;129;01min\u001b[39;00m first_line\u001b[38;5;241m.\u001b[39mlower():\n\u001b[0;32m     47\u001b[0m         \u001b[38;5;28;01mraise\u001b[39;00m \u001b[38;5;167;01mValueError\u001b[39;00m(\u001b[38;5;124m\"\u001b[39m\u001b[38;5;124mThe downloaded file is HTML content, not a ZIP file. Please ensure the download link is correct.\u001b[39m\u001b[38;5;124m\"\u001b[39m)\n",
      "File \u001b[1;32m<frozen codecs>:322\u001b[0m, in \u001b[0;36mdecode\u001b[1;34m(self, input, final)\u001b[0m\n",
      "\u001b[1;31mUnicodeDecodeError\u001b[0m: 'utf-8' codec can't decode byte 0xfd in position 12: invalid start byte"
     ]
    }
   ],
   "source": [
    "import os\n",
    "import requests\n",
    "import zipfile\n",
    "import gdown\n",
    "import logging\n",
    "from pathlib import Path\n",
    "\n",
    "# Set up logging configuration\n",
    "logging.basicConfig(level=logging.INFO)\n",
    "logger = logging.getLogger(__name__)\n",
    "\n",
    "class DataIngestionConfig:\n",
    "    def __init__(self, source_URL, local_data_file, root_dir, unzip_dir):\n",
    "        self.source_URL = source_URL\n",
    "        self.local_data_file = Path(local_data_file)\n",
    "        self.root_dir = Path(root_dir)\n",
    "        self.unzip_dir = Path(unzip_dir)\n",
    "\n",
    "class DataIngestion:\n",
    "    def __init__(self, config: DataIngestionConfig):\n",
    "        self.config = config\n",
    "\n",
    "    def download_file(self) -> Path:\n",
    "        '''Fetch data from the URL.'''\n",
    "        try:\n",
    "            dataset_url = self.config.source_URL\n",
    "            zip_download_dir = self.config.local_data_file\n",
    "            download_dir = zip_download_dir.parent\n",
    "\n",
    "            # Ensure the download directory exists\n",
    "            download_dir.mkdir(parents=True, exist_ok=True)\n",
    "            logger.info(f\"Downloading data from {dataset_url} into file {zip_download_dir}\")\n",
    "\n",
    "            # Extract file ID for Google Drive if applicable\n",
    "            if \"drive.google.com\" in dataset_url:\n",
    "                file_id = dataset_url.split(\"/\")[-2]\n",
    "                prefix = 'https://drive.google.com/uc?export=download&id='\n",
    "                download_url = prefix + file_id\n",
    "            else:\n",
    "                download_url = dataset_url\n",
    "\n",
    "            # Download using gdown\n",
    "            gdown.download(download_url, str(zip_download_dir), quiet=False)\n",
    "\n",
    "            # Check if the file exists and is not empty\n",
    "            if not zip_download_dir.exists() or zip_download_dir.stat().st_size == 0:\n",
    "                raise Exception(\"Downloaded file is empty or does not exist. Please check the URL or file permissions.\")\n",
    "\n",
    "            logger.info(f\"Downloaded data from {dataset_url} into file {zip_download_dir}\")\n",
    "            return zip_download_dir\n",
    "\n",
    "        except Exception as e:\n",
    "            logger.error(f\"Error in downloading file: {e}\")\n",
    "            raise e\n",
    "\n",
    "    def extract_zip_file(self):\n",
    "        \"\"\"Extracts the zip file into the data directory.\"\"\"\n",
    "        try:\n",
    "            unzip_path = self.config.unzip_dir\n",
    "            unzip_path.mkdir(parents=True, exist_ok=True)  # Ensure the unzip directory exists\n",
    "\n",
    "            # Check if the file is actually a zip file\n",
    "            if not zipfile.is_zipfile(str(self.config.local_data_file)):\n",
    "                raise zipfile.BadZipFile(\"The downloaded file is not a zip file.\")\n",
    "\n",
    "            # Extract the zip file\n",
    "            with zipfile.ZipFile(str(self.config.local_data_file), 'r') as zip_ref:\n",
    "                zip_ref.extractall(unzip_path)\n",
    "            logger.info(f\"Extracted zip file to {unzip_path}\")\n",
    "\n",
    "        except zipfile.BadZipFile as bzfe:\n",
    "            logger.error(f\"BadZipFile error: {bzfe}\")\n",
    "            raise bzfe\n",
    "        except Exception as e:\n",
    "            logger.error(f\"Error in extracting zip file: {e}\")\n",
    "            raise e\n",
    "\n",
    "if __name__ == \"__main__\":\n",
    "    try:\n",
    "        # Example configuration (replace with your actual paths and URLs)\n",
    "        config = DataIngestionConfig(\n",
    "            source_URL=\"https://drive.google.com/file/d/11T_7lm2Fuhn94UR3PnKn6OtOjXsRO8qT/view?usp=sharing\",\n",
    "            local_data_file=\"artifacts/data_ingestion/data.zip\",\n",
    "            root_dir=\"artifacts/data_ingestion\",\n",
    "            unzip_dir=\"artifacts/data_ingestion\"\n",
    "        )\n",
    "        data_ingestion = DataIngestion(config)\n",
    "        logger.info(\">>>>>> stage Data Ingestion stage started <<<<<<\")\n",
    "        \n",
    "        # Download the data\n",
    "        data_ingestion.download_file()\n",
    "\n",
    "        # Extract the downloaded ZIP file\n",
    "        data_ingestion.extract_zip_file()\n",
    "\n",
    "        logger.info(\">>>>>> stage Data Ingestion completed <<<<<<\")\n",
    "\n",
    "    except Exception as e:\n",
    "        logger.error(f\"Error in Data Ingestion stage: {e}\")\n",
    "        raise e\n"
   ]
  },
  {
   "cell_type": "code",
   "execution_count": 10,
   "metadata": {},
   "outputs": [
    {
     "name": "stdout",
     "output_type": "stream",
     "text": [
      "[2024-10-11 12:07:25,056:INFO:common:yaml file: config\\config.yaml loaded successfully]\n",
      "[2024-10-11 12:07:25,068:INFO:common:yaml file: params.yaml loaded successfully]\n",
      "[2024-10-11 12:07:25,068:INFO:common:created directory at: artifacts]\n",
      "[2024-10-11 12:07:25,073:INFO:common:created directory at: artifacts/data_ingestion]\n",
      "[2024-10-11 12:07:25,074:INFO:940982851:Downloading data from https://drive.google.com/file/d/11T_7lm2Fuhn94UR3PnKn6OtOjXsRO8qT/view?usp=sharing into file artifacts\\data_ingestion\\data.zip]\n"
     ]
    },
    {
     "name": "stderr",
     "output_type": "stream",
     "text": [
      "Downloading...\n",
      "From (original): https://drive.google.com/uc?export=download&id=11T_7lm2Fuhn94UR3PnKn6OtOjXsRO8qT\n",
      "From (redirected): https://drive.google.com/uc?export=download&id=11T_7lm2Fuhn94UR3PnKn6OtOjXsRO8qT&confirm=t&uuid=484762be-c6ac-4c6b-a83d-25963ab8e1d6\n",
      "To: c:\\Users\\Adithya\\Desktop\\chest_cancer_classification\\artifacts\\data_ingestion\\data.zip\n",
      "100%|██████████| 49.0M/49.0M [00:02<00:00, 18.2MB/s]\n"
     ]
    },
    {
     "name": "stdout",
     "output_type": "stream",
     "text": [
      "[2024-10-11 12:07:33,483:INFO:940982851:Downloaded data from https://drive.google.com/file/d/11T_7lm2Fuhn94UR3PnKn6OtOjXsRO8qT/view?usp=sharing into file artifacts\\data_ingestion\\data.zip]\n",
      "[2024-10-11 12:07:34,100:INFO:940982851:Extracted zip file to artifacts\\data_ingestion]\n"
     ]
    }
   ],
   "source": [
    "try:\n",
    "    config = ConfigurationManager()\n",
    "    data_ingestion_config = config.get_data_ingestion_config()\n",
    "    data_ingestion = DataIngestion(config=data_ingestion_config)\n",
    "    data_ingestion.download_file()\n",
    "    data_ingestion.extract_zip_file()\n",
    "except Exception as e:\n",
    "    raise e"
   ]
  },
  {
   "cell_type": "code",
   "execution_count": null,
   "metadata": {},
   "outputs": [],
   "source": []
  }
 ],
 "metadata": {
  "kernelspec": {
   "display_name": "cancer",
   "language": "python",
   "name": "python3"
  },
  "language_info": {
   "codemirror_mode": {
    "name": "ipython",
    "version": 3
   },
   "file_extension": ".py",
   "mimetype": "text/x-python",
   "name": "python",
   "nbconvert_exporter": "python",
   "pygments_lexer": "ipython3",
   "version": "3.12.7"
  },
  "orig_nbformat": 4
 },
 "nbformat": 4,
 "nbformat_minor": 2
}
